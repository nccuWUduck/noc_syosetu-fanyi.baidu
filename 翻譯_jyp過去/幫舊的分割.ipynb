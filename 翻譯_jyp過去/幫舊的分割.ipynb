{
 "cells": [
  {
   "cell_type": "code",
   "execution_count": 9,
   "metadata": {
    "ExecuteTime": {
     "end_time": "2021-10-31T05:42:17.276221Z",
     "start_time": "2021-10-31T05:42:17.266246Z"
    }
   },
   "outputs": [
    {
     "data": {
      "text/plain": [
       "['RPG風の異世界',\n",
       " 'ロリエルフの調教下着',\n",
       " '人生全部ぶっ壊される美少女',\n",
       " '伊波達平と無防備な幼馴染',\n",
       " '俺と妹の夏休',\n",
       " '全裸で集団異世界',\n",
       " '夢の湯',\n",
       " '平民猟師',\n",
       " '幼馴染all',\n",
       " '我的妹妹是最棒的配菜',\n",
       " '新たな身体で獣人少女',\n",
       " '最低最悪の常識改変召喚',\n",
       " '無口爆乳後輩',\n",
       " '異世界転生の知恵',\n",
       " '美醜逆転世界',\n",
       " '貧乏巨乳女子大生の日常',\n",
       " '趣味改変(短)',\n",
       " '金髪ハーフロリ爆乳JSを痴漢',\n",
       " '露出に興じる娘',\n",
       " '黒髪色白低身長爆乳はんなり幼馴染']"
      ]
     },
     "execution_count": 9,
     "metadata": {},
     "output_type": "execute_result"
    }
   ],
   "source": [
    "import os\n",
    "os.listdir('過去')"
   ]
  },
  {
   "cell_type": "code",
   "execution_count": 11,
   "metadata": {
    "ExecuteTime": {
     "end_time": "2021-10-31T05:42:58.027145Z",
     "start_time": "2021-10-31T05:42:58.010218Z"
    }
   },
   "outputs": [
    {
     "name": "stdout",
     "output_type": "stream",
     "text": [
      "['.ipynb_checkpoints', 'RPG風の異世界new__0.txt', 'RPG風の異世界new__1.txt', 'RPG風の異世界new__2.txt', 'RPG風の異世界new__3.txt', 'RPG風の異世界new__4.txt', 'RPG風の異世界__0.txt', 'RPG風の異世界__1.txt', 'RPG風の異世界__2.txt', 'RPG風の異世界__3.txt', 'RPG風の異世界__4.txt', '分隔視作.ipynb']\n",
      "['ロリエルフの調教下着_all.txt']\n",
      "['人生全部ぶっ壊される美少女__0.txt']\n",
      "['伊波達平と無防備な幼馴染__0.txt']\n",
      "['俺と妹の夏休__0.txt', '俺と妹の夏休__1.txt', '俺と妹の夏休__2.txt', '俺と妹の夏休__3.txt']\n",
      "['全裸で集団異世界_all.txt']\n",
      "['夢の湯_all.txt']\n",
      "['平民猟師__0.txt']\n",
      "['R18幼馴染を盗撮', '幼馴染all.txt', '幼馴染all___nnew.txt', '幼馴染all_中文翻譯_list.txt']\n",
      "['我的妹妹是最棒的配菜__0.txt', '我的妹妹是最棒的配菜__1.txt', '我的妹妹是最棒的配菜__2.txt', '我的妹妹是最棒的配菜__3.txt']\n",
      "['新たな身体で獣人少女_all.txt']\n",
      "['最低最悪の常識改変召喚_all.txt']\n",
      "['無口爆乳後輩__0.txt']\n",
      "['異世界転生の知恵__0.txt', '異世界転生の知恵__1.txt']\n",
      "['美醜逆転世界__0.txt']\n",
      "['貧乏巨乳女子大生の日常_all.txt']\n",
      "['趣味改変(短)__0.txt']\n",
      "['金髪ハーフロリ爆乳JSを痴漢__0.txt']\n",
      "['露出に興じる娘__0.txt', '露出に興じる娘__1.txt']\n",
      "['黒髪色白低身長爆乳はんなり幼馴染__0.txt']\n"
     ]
    }
   ],
   "source": [
    "for nxt in os.listdir('過去'):\n",
    "    path='過去\\\\'+nxt\n",
    "    print(os.listdir(path))"
   ]
  },
  {
   "cell_type": "code",
   "execution_count": 16,
   "metadata": {
    "ExecuteTime": {
     "end_time": "2021-10-31T05:47:34.500237Z",
     "start_time": "2021-10-31T05:47:34.105931Z"
    }
   },
   "outputs": [],
   "source": [
    "for nxt in os.listdir('過去'):\n",
    "    if nxt!='RPG風の異世界':\n",
    "        path='過去\\\\'+nxt\n",
    "        #print(os.listdir(path))\n",
    "        num=0\n",
    "        for novel_name in os.listdir(path):    \n",
    "            if novel_name.endswith('.txt'):\n",
    "                novel_list0=[]\n",
    "                novel_list_new=[]\n",
    "                novel_name=path+'\\\\'+novel_name\n",
    "                with open(novel_name,\"r\",encoding=\"utf-8\") as f:\n",
    "                    lines = f.readlines()\n",
    "                    for line in lines:\n",
    "                        novel_list0.append(line)\n",
    "                for novel_txt in novel_list0:        \n",
    "                    a=novel_txt.replace(\"。\",'\\n')\n",
    "                    novel_list_new.append(a)\n",
    "                name=nxt+'new'+'__'+str(num)+'.txt'\n",
    "                num+=1\n",
    "                str123=' '\n",
    "                novel_list_new_str=str123.join(novel_list_new)\n",
    "                name=path+\"\\\\\"+nxt +'new'+'__'+str(num)+'.txt'\n",
    "                f = open(name, 'w' ,newline='',encoding=\"utf-8\")\n",
    "                f.write(novel_list_new_str)\n",
    "                f.close()"
   ]
  },
  {
   "cell_type": "code",
   "execution_count": null,
   "metadata": {},
   "outputs": [],
   "source": []
  }
 ],
 "metadata": {
  "kernelspec": {
   "display_name": "Python 3",
   "language": "python",
   "name": "python3"
  },
  "language_info": {
   "codemirror_mode": {
    "name": "ipython",
    "version": 3
   },
   "file_extension": ".py",
   "mimetype": "text/x-python",
   "name": "python",
   "nbconvert_exporter": "python",
   "pygments_lexer": "ipython3",
   "version": "3.8.3"
  },
  "varInspector": {
   "cols": {
    "lenName": 16,
    "lenType": 16,
    "lenVar": 40
   },
   "kernels_config": {
    "python": {
     "delete_cmd_postfix": "",
     "delete_cmd_prefix": "del ",
     "library": "var_list.py",
     "varRefreshCmd": "print(var_dic_list())"
    },
    "r": {
     "delete_cmd_postfix": ") ",
     "delete_cmd_prefix": "rm(",
     "library": "var_list.r",
     "varRefreshCmd": "cat(var_dic_list()) "
    }
   },
   "types_to_exclude": [
    "module",
    "function",
    "builtin_function_or_method",
    "instance",
    "_Feature"
   ],
   "window_display": false
  }
 },
 "nbformat": 4,
 "nbformat_minor": 4
}
