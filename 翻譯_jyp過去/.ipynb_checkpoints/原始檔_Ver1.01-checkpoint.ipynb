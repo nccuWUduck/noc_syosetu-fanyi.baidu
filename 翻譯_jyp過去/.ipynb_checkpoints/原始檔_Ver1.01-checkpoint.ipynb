{
 "cells": [
  {
   "cell_type": "code",
   "execution_count": 1,
   "metadata": {
    "ExecuteTime": {
     "end_time": "2021-10-31T05:12:53.753814Z",
     "start_time": "2021-10-31T05:12:46.979200Z"
    }
   },
   "outputs": [
    {
     "name": "stdout",
     "output_type": "stream",
     "text": [
      "請輸入你的網址：https://novel18.syosetu.com/n2804hh/\n"
     ]
    }
   ],
   "source": [
    "##link_want = \"https://novel18.syosetu.com/n9338gf/\"\n",
    "#例子\n",
    "link_want = input('請輸入你的網址：')"
   ]
  },
  {
   "cell_type": "code",
   "execution_count": 2,
   "metadata": {
    "ExecuteTime": {
     "end_time": "2021-10-31T05:13:02.939231Z",
     "start_time": "2021-10-31T05:12:55.297498Z"
    }
   },
   "outputs": [
    {
     "name": "stdout",
     "output_type": "stream",
     "text": [
      "請輸入你的檔案名：記憶喪失になった俺はなぜか生意気爆乳JK妹と清楚ロリJKな妹の親友に生ハメ交尾をねだられる\n"
     ]
    }
   ],
   "source": [
    "org_name=input('請輸入你的檔案名：')"
   ]
  },
  {
   "cell_type": "code",
   "execution_count": 4,
   "metadata": {
    "ExecuteTime": {
     "end_time": "2021-10-31T05:13:22.131620Z",
     "start_time": "2021-10-31T05:13:09.969465Z"
    }
   },
   "outputs": [
    {
     "name": "stdout",
     "output_type": "stream",
     "text": [
      "類型  (短篇還是連載_預設連載):短篇\n",
      "類型== 短篇\n"
     ]
    }
   ],
   "source": [
    "類型=input('類型  (短篇還是連載_預設連載):')\n",
    "if (類型==\"\"):\n",
    "    類型='連載'\n",
    "print(\"類型==\",類型)"
   ]
  },
  {
   "cell_type": "code",
   "execution_count": 6,
   "metadata": {
    "ExecuteTime": {
     "end_time": "2021-10-31T05:13:24.794441Z",
     "start_time": "2021-10-31T05:13:24.785464Z"
    }
   },
   "outputs": [
    {
     "data": {
      "text/plain": [
       "'短篇'"
      ]
     },
     "execution_count": 6,
     "metadata": {},
     "output_type": "execute_result"
    }
   ],
   "source": [
    "類型"
   ]
  },
  {
   "cell_type": "code",
   "execution_count": 7,
   "metadata": {
    "ExecuteTime": {
     "end_time": "2021-10-31T05:13:25.263463Z",
     "start_time": "2021-10-31T05:13:25.257492Z"
    }
   },
   "outputs": [],
   "source": [
    "# pip install webdriver-manager"
   ]
  },
  {
   "cell_type": "code",
   "execution_count": 12,
   "metadata": {
    "ExecuteTime": {
     "end_time": "2021-10-31T05:13:55.002900Z",
     "start_time": "2021-10-31T05:13:53.442991Z"
    }
   },
   "outputs": [
    {
     "name": "stderr",
     "output_type": "stream",
     "text": [
      "[WDM] - \n",
      "\n",
      "[WDM] - ====== WebDriver manager ======\n",
      "[WDM] - Current google-chrome version is 95.0.4638\n",
      "[WDM] - Get LATEST driver version for 95.0.4638\n",
      "[WDM] - Driver [C:\\Users\\user\\.wdm\\drivers\\chromedriver\\win32\\95.0.4638.54\\chromedriver.exe] found in cache\n"
     ]
    }
   ],
   "source": [
    "# from selenium import webdriver\n",
    "# from webdriver_manager.chrome import ChromeDriverManager\n",
    "\n",
    "# driver = webdriver.Chrome(ChromeDriverManager().install())"
   ]
  },
  {
   "cell_type": "code",
   "execution_count": 13,
   "metadata": {
    "ExecuteTime": {
     "end_time": "2021-10-31T05:13:55.157196Z",
     "start_time": "2021-10-31T05:13:55.143282Z"
    }
   },
   "outputs": [],
   "source": [
    "# -- coding: UTF-8 –-\n",
    "import requests as rq\n",
    "from bs4 import BeautifulSoup\n",
    "import io\n",
    "import time\n",
    "import urllib.request\n",
    "import csv\n",
    "def sleeptime(hour,min,sec):\n",
    "    return hour*3600 + min*60 + sec;\n",
    "# -- coding: UTF-8 –-\n",
    "import os\n",
    "import json\n",
    "import zipfile\n",
    "from selenium import webdriver\n",
    "import re\n",
    "import requests as rq\n",
    "from selenium.webdriver.common.by import By\n",
    "from selenium.webdriver.support.wait import WebDriverWait\n",
    "from selenium.webdriver.support import expected_conditions as EC"
   ]
  },
  {
   "cell_type": "code",
   "execution_count": 26,
   "metadata": {
    "ExecuteTime": {
     "end_time": "2021-10-31T05:32:34.900167Z",
     "start_time": "2021-10-31T05:32:34.890178Z"
    }
   },
   "outputs": [],
   "source": [
    "def 寫成文檔(中文翻譯_list_in,n):\n",
    "    nnew=[]\n",
    "    for i in 中文翻譯_list_in:\n",
    "        a=i.replace(\"。\",'\\n')\n",
    "        nnew.append(a)\n",
    "        nnew.append(\"\\n\")\n",
    "    str123=' '\n",
    "    new_nnew=str123.join(nnew)\n",
    "    path = 'C:\\\\Users\\\\user\\\\Desktop\\\\ero_novel\\\\'+ org_name\n",
    "    if not os.path.isdir(path):\n",
    "        os.makedirs(path)\n",
    "    name=path+\"\\\\\"+org_name +'__'+str(n)+'.txt'\n",
    "    f = open(name, 'w' ,newline='',encoding=\"utf-8\")\n",
    "    f.write(new_nnew)\n",
    "    f.close()\n",
    "\n"
   ]
  },
  {
   "cell_type": "code",
   "execution_count": 27,
   "metadata": {
    "ExecuteTime": {
     "end_time": "2021-10-31T05:32:57.853824Z",
     "start_time": "2021-10-31T05:32:44.770352Z"
    },
    "scrolled": true
   },
   "outputs": [],
   "source": [
    "# !/usr/bin/python\n",
    "# coding:utf-8\n",
    "if (類型==\"\"):\n",
    "    類型='連載'\n",
    "headers={'User-Agent':'Mozilla/5.0 (Windows NT 10.0; Win64; x64; rv:60.0) Gecko/20100101 Firefox/60.0'}\n",
    "if (類型==\"連載\"):\n",
    "    nl_response = rq.get(link_want,headers=headers,cookies={'over18':'yes'})\n",
    "    soup = BeautifulSoup(nl_response.text, 'html.parser')\n",
    "    japan_list=[]\n",
    "    for link in soup.find_all('dd'):\n",
    "        tmp=[]\n",
    "        #print(link.find('a').get('href'))\n",
    "        response = rq.get(\"https://novel18.syosetu.com/\"+link.find('a').get('href'),headers=headers,cookies={'over18':'yes'})    \n",
    "        html_doc = response.text # text 屬性就是 html 檔案\n",
    "        soup = BeautifulSoup(response.text, \"lxml\")\n",
    "        tmp=soup.find('div',class_=\"novel_view\",id=\"novel_honbun\").text\n",
    "        tmp=''.join(tmp)\n",
    "        japan_list.append(tmp)\n",
    "elif (類型==\"短篇\"):\n",
    "    japan_list=[]\n",
    "    response = rq.get(link_want,headers=headers,cookies={'over18':'yes'})    \n",
    "    html_doc = response.text # text 屬性就是 html 檔案\n",
    "    soup = BeautifulSoup(response.text, \"lxml\")\n",
    "    tmp=soup.find('div',class_=\"novel_view\",id=\"novel_honbun\").text\n",
    "    tmp=''.join(tmp)\n",
    "    japan_list.append(tmp)\n",
    "else:\n",
    "    print(\"不合型態\")\n",
    "    exit()\n",
    "\n",
    "#清理\n",
    "japan_list_clear=[]\n",
    "for str1 in japan_list:\n",
    "    tmp = re.sub(u\"\\s+|\\\\r|\\\\u3000|├|┼||┘|┴|┌|┬|└|─|│|┤|┐|●|◇|◆\",'',str1)\n",
    "    japan_list_clear.append(''.join(tmp)) \n",
    "切5000字_list=[]\n",
    "n=0\n",
    "限制=1000\n",
    "for i in japan_list_clear:\n",
    "    if(len(i)>限制):\n",
    "        tmp_num=len(i)\n",
    "        tmp_num=int(tmp_num/限制)+1\n",
    "        for j in range(tmp_num):\n",
    "            if(限制*(j+1)>len(i)):\n",
    "                切5000字_list.append(i[限制*j:len(i)-1])\n",
    "               # print(5000*j,len(i)-1)\n",
    "                break\n",
    "            切5000字_list.append(i[限制*j : 限制*(j+1)])\n",
    "          #  print(5000*j,5000*(j+1))\n",
    "\n",
    "        #print(\"----------\",n)\n",
    "        n+=1\n",
    "        continue\n",
    "    切5000字_list.append(i)\n",
    "    #print(\"==========\",n)\n",
    "    n+=1\n",
    "driver = webdriver.Chrome(r\"C:\\Users\\user\\Desktop\\ero_novel\\chromedriver\")\n",
    "driver.get(\"https://fanyi.baidu.com/#jp/zh/\") # 更改網址以前往不同網頁\n",
    "driver.implicitly_wait(5)\n",
    "# <textarea class=\"textarea\" id=\"baidu_translate_input\" data-height=\"70\" style=\"height: 70px; overflow: hidden;\"></textarea>\n",
    "#driver.close()\n",
    "\n",
    "\n",
    "tmp_japan_list=[]\n",
    "japan_list=[]\n",
    "japan_list_clear=[]\n",
    "中文翻譯_list=[]"
   ]
  },
  {
   "cell_type": "code",
   "execution_count": null,
   "metadata": {},
   "outputs": [],
   "source": []
  },
  {
   "cell_type": "code",
   "execution_count": 28,
   "metadata": {
    "ExecuteTime": {
     "end_time": "2021-10-31T05:32:57.981110Z",
     "start_time": "2021-10-31T05:32:57.967153Z"
    }
   },
   "outputs": [
    {
     "data": {
      "text/plain": [
       "27"
      ]
     },
     "execution_count": 28,
     "metadata": {},
     "output_type": "execute_result"
    }
   ],
   "source": [
    "len(切5000字_list)"
   ]
  },
  {
   "cell_type": "code",
   "execution_count": null,
   "metadata": {
    "ExecuteTime": {
     "start_time": "2021-10-31T05:33:00.159Z"
    }
   },
   "outputs": [],
   "source": [
    "中文翻譯_list=[]\n",
    "n=0\n",
    "counter=0\n",
    "auto_count=int(len(切5000字_list)/340)+1\n",
    "for i in range(len(切5000字_list)):    \n",
    "#     if(n==10):\n",
    "#         break\n",
    "    search_input = driver.find_element_by_id('baidu_translate_input')\n",
    "    search_input.send_keys(切5000字_list[i])\n",
    "    time.sleep(7)\n",
    "    soup_try = BeautifulSoup(driver.page_source, 'lxml')\n",
    "    kkk=soup_try.find_all(id=\"original-output\")\n",
    "    for j in kkk:\n",
    "        #print(i.string)\n",
    "        中文翻譯_list.append(j.string)\n",
    "        \n",
    "    if(i==(int(len(切5000字_list)*(counter+1)/auto_count)-1) or i==(len(切5000字_list)-1)):\n",
    "        寫成文檔(中文翻譯_list,counter)\n",
    "        counter+=1\n",
    "        print(counter)\n",
    "        中文翻譯_list=[]\n",
    "    if(切5000字_list[i]==''):\n",
    "        continue\n",
    "    \n",
    "    elements = driver.find_elements_by_class_name(\"textarea-clear-btn\")[0]\n",
    "    elements.click()\n",
    "    n+=1\n"
   ]
  },
  {
   "cell_type": "code",
   "execution_count": null,
   "metadata": {},
   "outputs": [],
   "source": []
  },
  {
   "cell_type": "code",
   "execution_count": null,
   "metadata": {},
   "outputs": [],
   "source": []
  },
  {
   "cell_type": "code",
   "execution_count": null,
   "metadata": {},
   "outputs": [],
   "source": []
  }
 ],
 "metadata": {
  "kernelspec": {
   "display_name": "Python 3",
   "language": "python",
   "name": "python3"
  },
  "language_info": {
   "codemirror_mode": {
    "name": "ipython",
    "version": 3
   },
   "file_extension": ".py",
   "mimetype": "text/x-python",
   "name": "python",
   "nbconvert_exporter": "python",
   "pygments_lexer": "ipython3",
   "version": "3.8.3"
  },
  "varInspector": {
   "cols": {
    "lenName": 16,
    "lenType": 16,
    "lenVar": 40
   },
   "kernels_config": {
    "python": {
     "delete_cmd_postfix": "",
     "delete_cmd_prefix": "del ",
     "library": "var_list.py",
     "varRefreshCmd": "print(var_dic_list())"
    },
    "r": {
     "delete_cmd_postfix": ") ",
     "delete_cmd_prefix": "rm(",
     "library": "var_list.r",
     "varRefreshCmd": "cat(var_dic_list()) "
    }
   },
   "types_to_exclude": [
    "module",
    "function",
    "builtin_function_or_method",
    "instance",
    "_Feature"
   ],
   "window_display": false
  }
 },
 "nbformat": 4,
 "nbformat_minor": 4
}
