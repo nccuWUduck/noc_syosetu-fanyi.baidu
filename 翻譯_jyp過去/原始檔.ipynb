{
 "cells": [
  {
   "cell_type": "code",
   "execution_count": 16,
   "metadata": {
    "ExecuteTime": {
     "end_time": "2021-03-15T16:23:05.538115Z",
     "start_time": "2021-03-15T16:23:03.358492Z"
    }
   },
   "outputs": [
    {
     "name": "stdout",
     "output_type": "stream",
     "text": [
      "請輸入你的網址：https://novel18.syosetu.com/n1900dz/\n"
     ]
    }
   ],
   "source": [
    "##link_want = \"https://novel18.syosetu.com/n9338gf/\"\n",
    "#例子\n",
    "link_want = input('請輸入你的網址：')"
   ]
  },
  {
   "cell_type": "code",
   "execution_count": 17,
   "metadata": {
    "ExecuteTime": {
     "end_time": "2021-03-15T16:23:16.112593Z",
     "start_time": "2021-03-15T16:23:06.680197Z"
    }
   },
   "outputs": [
    {
     "name": "stdout",
     "output_type": "stream",
     "text": [
      "請輸入你的檔案名：全裸で集団異世界\n"
     ]
    }
   ],
   "source": [
    "org_name=input('請輸入你的檔案名：')"
   ]
  },
  {
   "cell_type": "code",
   "execution_count": 18,
   "metadata": {
    "ExecuteTime": {
     "end_time": "2021-03-15T16:23:16.859750Z",
     "start_time": "2021-03-15T16:23:16.852769Z"
    }
   },
   "outputs": [],
   "source": [
    "# -- coding: UTF-8 –-\n",
    "import requests as rq\n",
    "from bs4 import BeautifulSoup\n",
    "import io\n",
    "import time\n",
    "import urllib.request\n",
    "import csv\n",
    "def sleeptime(hour,min,sec):\n",
    "    return hour*3600 + min*60 + sec;\n",
    "# -- coding: UTF-8 –-\n",
    "import os\n",
    "import json\n",
    "import zipfile\n",
    "from selenium import webdriver\n",
    "import re\n",
    "import requests as rq\n",
    "from selenium.webdriver.common.by import By\n",
    "from selenium.webdriver.support.wait import WebDriverWait\n",
    "from selenium.webdriver.support import expected_conditions as EC"
   ]
  },
  {
   "cell_type": "code",
   "execution_count": 19,
   "metadata": {
    "ExecuteTime": {
     "end_time": "2021-03-15T16:24:04.359536Z",
     "start_time": "2021-03-15T16:23:17.341465Z"
    },
    "scrolled": true
   },
   "outputs": [],
   "source": [
    "# !/usr/bin/python\n",
    "# coding:utf-8\n",
    "headers={'User-Agent':'Mozilla/5.0 (Windows NT 10.0; Win64; x64; rv:60.0) Gecko/20100101 Firefox/60.0'}\n",
    "nl_response = rq.get(link_want,headers=headers,cookies={'over18':'yes'})\n",
    "soup = BeautifulSoup(nl_response.text, 'html.parser')\n",
    "japan_list=[]\n",
    "for link in soup.find_all('dd'):\n",
    "    tmp=[]\n",
    "    #print(link.find('a').get('href'))\n",
    "    response = rq.get(\"https://novel18.syosetu.com/\"+link.find('a').get('href'),headers=headers,cookies={'over18':'yes'})    \n",
    "    html_doc = response.text # text 屬性就是 html 檔案\n",
    "    soup = BeautifulSoup(response.text, \"lxml\")\n",
    "    tmp=soup.find('div',class_=\"novel_view\",id=\"novel_honbun\").text\n",
    "    tmp=''.join(tmp)\n",
    "    japan_list.append(tmp)\n",
    "japan_list_clear=[]\n",
    "for str1 in japan_list:\n",
    "    tmp = re.sub(u\"\\s+|\\\\r|\\\\n|\\\\u3000|├|┼||┘|┴|┌|┬|└|─|│|┤|┐|●|◇|◆\",'',str1)\n",
    "    japan_list_clear.append(''.join(tmp)) \n",
    "切5000字_list=[]\n",
    "n=0\n",
    "限制=1000\n",
    "for i in japan_list_clear:\n",
    "    if(len(i)>限制):\n",
    "        tmp_num=len(i)\n",
    "        tmp_num=int(tmp_num/限制)+1\n",
    "        for j in range(tmp_num):\n",
    "            if(限制*(j+1)>len(i)):\n",
    "                切5000字_list.append(i[限制*j:len(i)-1])\n",
    "               # print(5000*j,len(i)-1)\n",
    "                break\n",
    "            切5000字_list.append(i[限制*j : 限制*(j+1)])\n",
    "          #  print(5000*j,5000*(j+1))\n",
    "        \n",
    "        #print(\"----------\",n)\n",
    "        n+=1\n",
    "        continue\n",
    "    切5000字_list.append(i)\n",
    "    #print(\"==========\",n)\n",
    "    n+=1\n",
    "driver = webdriver.Chrome(r\"C:\\Users\\user\\Desktop\\ero_novel\\chromedriver\")\n",
    "driver.get(\"https://fanyi.baidu.com/#jp/zh/\") # 更改網址以前往不同網頁\n",
    "driver.implicitly_wait(5)\n",
    "# <textarea class=\"textarea\" id=\"baidu_translate_input\" data-height=\"70\" style=\"height: 70px; overflow: hidden;\"></textarea>\n",
    "#driver.close()\n",
    "tmp_japan_list=[]\n",
    "japan_list=[]\n",
    "japan_list_clear=[]\n",
    "中文翻譯_list=[]"
   ]
  },
  {
   "cell_type": "code",
   "execution_count": 20,
   "metadata": {
    "ExecuteTime": {
     "end_time": "2021-03-15T17:34:40.400371Z",
     "start_time": "2021-03-15T16:24:04.838755Z"
    }
   },
   "outputs": [],
   "source": [
    "中文翻譯_list=[]\n",
    "n=0\n",
    "for i in 切5000字_list:\n",
    "    if(i==''):\n",
    "        continue\n",
    "#     if(n==10):\n",
    "#         break\n",
    "    search_input = driver.find_element_by_id('baidu_translate_input')\n",
    "    search_input.send_keys(i)\n",
    "    time.sleep(5)\n",
    "    soup_try = BeautifulSoup(driver.page_source, 'lxml')\n",
    "    kkk=soup_try.find_all(id=\"original-output\")\n",
    "    for j in kkk:\n",
    "        #print(i.string)\n",
    "        中文翻譯_list.append(j.string)\n",
    "    time.sleep(5)\n",
    "    elements = driver.find_elements_by_class_name(\"textarea-clear-btn\")[0]\n",
    "    elements.click()\n",
    "    n+=1\n"
   ]
  },
  {
   "cell_type": "code",
   "execution_count": 21,
   "metadata": {
    "ExecuteTime": {
     "end_time": "2021-03-15T17:34:40.779880Z",
     "start_time": "2021-03-15T17:34:40.768908Z"
    }
   },
   "outputs": [],
   "source": [
    "for i in range(len(中文翻譯_list)):\n",
    "    if(中文翻譯_list==''):\n",
    "        print(i,\"=====空peko\")\n",
    "    if((i+1) >=len(中文翻譯_list)):\n",
    "        break\n",
    "    if(中文翻譯_list[i]==中文翻譯_list[i+1] ):\n",
    "        print(i)\n",
    "else:\n",
    "    print(\"over\")"
   ]
  },
  {
   "cell_type": "code",
   "execution_count": 22,
   "metadata": {
    "ExecuteTime": {
     "end_time": "2021-03-15T17:34:41.119972Z",
     "start_time": "2021-03-15T17:34:41.104012Z"
    }
   },
   "outputs": [],
   "source": [
    "nnew=[]\n",
    "for i in 中文翻譯_list:\n",
    "    nnew.append(i)\n",
    "    nnew.append(\"\\n\")\n",
    "    nnew.append(\"\\n\\n\")\n",
    "str123=' '\n",
    "new_nnew=str123.join(nnew)\n",
    "path = 'C:\\\\Users\\\\user\\\\Desktop\\\\ero_novel\\\\'+ org_name\n",
    "if not os.path.isdir(path):\n",
    "    os.makedirs(path)\n",
    "name=path+\"\\\\\"+org_name +\"_all\"+'.txt'\n",
    "\n",
    "\n",
    "f = open(name, 'w' ,newline='',encoding=\"utf-8\")\n",
    "f.write(new_nnew)\n",
    "f.close()\n",
    "\n",
    "\n"
   ]
  },
  {
   "cell_type": "code",
   "execution_count": null,
   "metadata": {},
   "outputs": [],
   "source": []
  },
  {
   "cell_type": "code",
   "execution_count": null,
   "metadata": {},
   "outputs": [],
   "source": []
  },
  {
   "cell_type": "code",
   "execution_count": null,
   "metadata": {},
   "outputs": [],
   "source": []
  }
 ],
 "metadata": {
  "kernelspec": {
   "display_name": "Python 3",
   "language": "python",
   "name": "python3"
  },
  "language_info": {
   "codemirror_mode": {
    "name": "ipython",
    "version": 3
   },
   "file_extension": ".py",
   "mimetype": "text/x-python",
   "name": "python",
   "nbconvert_exporter": "python",
   "pygments_lexer": "ipython3",
   "version": "3.8.3"
  },
  "varInspector": {
   "cols": {
    "lenName": 16,
    "lenType": 16,
    "lenVar": 40
   },
   "kernels_config": {
    "python": {
     "delete_cmd_postfix": "",
     "delete_cmd_prefix": "del ",
     "library": "var_list.py",
     "varRefreshCmd": "print(var_dic_list())"
    },
    "r": {
     "delete_cmd_postfix": ") ",
     "delete_cmd_prefix": "rm(",
     "library": "var_list.r",
     "varRefreshCmd": "cat(var_dic_list()) "
    }
   },
   "types_to_exclude": [
    "module",
    "function",
    "builtin_function_or_method",
    "instance",
    "_Feature"
   ],
   "window_display": false
  }
 },
 "nbformat": 4,
 "nbformat_minor": 4
}
